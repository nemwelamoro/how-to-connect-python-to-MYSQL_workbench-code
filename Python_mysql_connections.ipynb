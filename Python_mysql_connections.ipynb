{
 "cells": [
  {
   "cell_type": "code",
   "execution_count": 8,
   "id": "9b814ffc-272c-424f-a1d9-47563cacb036",
   "metadata": {},
   "outputs": [
    {
     "name": "stdout",
     "output_type": "stream",
     "text": [
      "MySQL Database connection successful\n"
     ]
    }
   ],
   "source": [
    "\n",
    "import mysql.connector\n",
    "from mysql.connector import Error\n",
    "def create_server_connection(host_name, user_name, user_password):\n",
    "\n",
    "    connection = None\n",
    "\n",
    "    try:\n",
    "\n",
    "        connection = mysql.connector.connect(\n",
    "\n",
    "            host = host_name,\n",
    "\n",
    "            user = user_name,\n",
    "\n",
    "            passwd = user_password\n",
    "\n",
    "        )\n",
    "\n",
    "        print(\"MySQL Database connection successful\")\n",
    "\n",
    "    except Error as err:\n",
    "\n",
    "        print(f\"Error: '{err}'\")\n",
    "\n",
    "    return connection\n",
    "\n",
    "#Put our MySQL Terminal Password\n",
    "\n",
    "pw = \"set_own_password\"\n",
    "\n",
    " \n",
    "\n",
    "#Database\n",
    "\n",
    "connection = create_server_connection(\"localhost\", \"root\", pw) \n"
   ]
  },
  {
   "cell_type": "code",
   "execution_count": 9,
   "id": "af958e84-8ab5-4f19-a1f5-4fc299566b57",
   "metadata": {},
   "outputs": [],
   "source": [
    "##creating databases\n",
    "\n",
    "import mysql.connector\n",
    "\n",
    "def create_database(connection, query):\n",
    "\n",
    "    cursor = connection.cursor()\n",
    "\n",
    "    try:\n",
    "\n",
    "        cursor.execute(query)\n",
    "\n",
    "        connection.commit()  # Commit the database creation\n",
    "\n",
    "        print(\"Database created successfully\")\n",
    "\n",
    "    except mysql.connector.Error as err:  # Specify exception class\n",
    "\n",
    "        print(f\"Error: '{err}'\")\n",
    "\n",
    "    finally:\n",
    "\n",
    "        cursor.close()  # Close the cursor regardless of success or failure\n"
   ]
  },
  {
   "cell_type": "code",
   "execution_count": 10,
   "id": "d75f394f-7d91-4fb2-85e2-ed5e31b49702",
   "metadata": {},
   "outputs": [
    {
     "name": "stdout",
     "output_type": "stream",
     "text": [
      "Database created successfully\n"
     ]
    }
   ],
   "source": [
    "# Example usage (assuming `connection` is a valid connection object):\n",
    "\n",
    "create_database_query = \"CREATE DATABASE IF NOT EXISTS Nemwel_Connections\"\n",
    "\n",
    "create_database(connection, create_database_query)\n",
    "\n",
    " \n",
    "\n",
    "connection.close()  # Close the connection\n",
    "\n"
   ]
  }
 ],
 "metadata": {
  "kernelspec": {
   "display_name": "Python 3 (ipykernel)",
   "language": "python",
   "name": "python3"
  },
  "language_info": {
   "codemirror_mode": {
    "name": "ipython",
    "version": 3
   },
   "file_extension": ".py",
   "mimetype": "text/x-python",
   "name": "python",
   "nbconvert_exporter": "python",
   "pygments_lexer": "ipython3",
   "version": "3.9.7"
  }
 },
 "nbformat": 4,
 "nbformat_minor": 5
}
